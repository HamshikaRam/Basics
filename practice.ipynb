{
 "cells": [
  {
   "cell_type": "code",
   "execution_count": 1,
   "id": "0ac95d68",
   "metadata": {},
   "outputs": [
    {
     "name": "stdout",
     "output_type": "stream",
     "text": [
      "Hi\n"
     ]
    }
   ],
   "source": [
    "print(\"Hi\")"
   ]
  },
  {
   "cell_type": "code",
   "execution_count": 2,
   "id": "99d11ed4-f3a5-43eb-ab76-6c54060bfa31",
   "metadata": {},
   "outputs": [],
   "source": [
    "arr5 = [1,2,3]"
   ]
  },
  {
   "cell_type": "code",
   "execution_count": 3,
   "id": "c2e79ca6-acb8-4382-9a28-60fd993c6f79",
   "metadata": {},
   "outputs": [
    {
     "data": {
      "text/plain": [
       "list"
      ]
     },
     "execution_count": 3,
     "metadata": {},
     "output_type": "execute_result"
    }
   ],
   "source": [
    "type(arr5)"
   ]
  },
  {
   "cell_type": "code",
   "execution_count": 4,
   "id": "8a72f58e-e38c-4f16-84b7-49370bd17ea8",
   "metadata": {},
   "outputs": [
    {
     "data": {
      "text/plain": [
       "array('i', [1, 2, 3, 4, 5])"
      ]
     },
     "execution_count": 4,
     "metadata": {},
     "output_type": "execute_result"
    }
   ],
   "source": [
    "import array\n",
    "my_array = array.array('i', [1, 2, 3, 4, 5])\n",
    "my_array"
   ]
  },
  {
   "cell_type": "code",
   "execution_count": 5,
   "id": "2ee53c5c-eedd-47ce-8487-7f6cd7406e0b",
   "metadata": {},
   "outputs": [],
   "source": [
    "import numpy as np"
   ]
  },
  {
   "cell_type": "code",
   "execution_count": 6,
   "id": "3b39f0e9-f748-4911-8729-0f72fcaaf472",
   "metadata": {},
   "outputs": [],
   "source": [
    "my_lst1 = [1,2,3,4,5]\n",
    "my_lst2 = [2,3,4,5,6]\n",
    "my_lst3 = [3,4,5,6,7]"
   ]
  },
  {
   "cell_type": "code",
   "execution_count": 7,
   "id": "505be8bb-e10f-457c-950b-a72874efbcc5",
   "metadata": {},
   "outputs": [],
   "source": [
    "arr = np.array([my_lst1,my_lst2,my_lst3])"
   ]
  },
  {
   "cell_type": "code",
   "execution_count": 8,
   "id": "43c1b37a-68c7-4e89-b74a-0bb299cd8fca",
   "metadata": {},
   "outputs": [
    {
     "data": {
      "text/plain": [
       "array([[1, 2, 3, 4, 5],\n",
       "       [2, 3, 4, 5, 6],\n",
       "       [3, 4, 5, 6, 7]])"
      ]
     },
     "execution_count": 8,
     "metadata": {},
     "output_type": "execute_result"
    }
   ],
   "source": [
    "arr"
   ]
  },
  {
   "cell_type": "code",
   "execution_count": 9,
   "id": "116917f3-f948-4767-9340-2f1dd9650fee",
   "metadata": {},
   "outputs": [
    {
     "data": {
      "text/plain": [
       "array([[4, 5],\n",
       "       [5, 6]])"
      ]
     },
     "execution_count": 9,
     "metadata": {},
     "output_type": "execute_result"
    }
   ],
   "source": [
    "arr[1:,2:4]"
   ]
  },
  {
   "cell_type": "code",
   "execution_count": 10,
   "id": "91f60785-df09-4d1e-be20-d95cc109b642",
   "metadata": {},
   "outputs": [
    {
     "data": {
      "text/plain": [
       "array([[3, 4, 5],\n",
       "       [4, 5, 6]])"
      ]
     },
     "execution_count": 10,
     "metadata": {},
     "output_type": "execute_result"
    }
   ],
   "source": [
    "arr[1:,1:4]"
   ]
  },
  {
   "cell_type": "code",
   "execution_count": 11,
   "id": "e3c53f3f-828a-4e47-afd8-914bca5aa96a",
   "metadata": {},
   "outputs": [],
   "source": [
    " arr = np.array([1,2,3,4,5])"
   ]
  },
  {
   "cell_type": "code",
   "execution_count": 12,
   "id": "0953a1ce-422e-4003-9774-4995c886c54c",
   "metadata": {},
   "outputs": [
    {
     "data": {
      "text/plain": [
       "array([1, 2, 3, 4, 5])"
      ]
     },
     "execution_count": 12,
     "metadata": {},
     "output_type": "execute_result"
    }
   ],
   "source": [
    "arr"
   ]
  },
  {
   "cell_type": "code",
   "execution_count": 13,
   "id": "f47cb68c-948d-457c-8f0c-1765c0bb7630",
   "metadata": {},
   "outputs": [],
   "source": [
    "arr[3:] = 100"
   ]
  },
  {
   "cell_type": "code",
   "execution_count": 14,
   "id": "19b423d9-dd50-4cb7-a0b2-b43e8bdae999",
   "metadata": {},
   "outputs": [
    {
     "data": {
      "text/plain": [
       "array([  1,   2,   3, 100, 100])"
      ]
     },
     "execution_count": 14,
     "metadata": {},
     "output_type": "execute_result"
    }
   ],
   "source": [
    "arr"
   ]
  },
  {
   "cell_type": "code",
   "execution_count": 15,
   "id": "b95fc26e-c585-4ca3-96d8-b7147dd872c7",
   "metadata": {},
   "outputs": [
    {
     "data": {
      "text/plain": [
       "array([  1,   2,   3, 100, 500])"
      ]
     },
     "execution_count": 15,
     "metadata": {},
     "output_type": "execute_result"
    }
   ],
   "source": [
    "arr1 = arr\n",
    "arr1[4:] = 500\n",
    "arr1"
   ]
  },
  {
   "cell_type": "code",
   "execution_count": 16,
   "id": "38059418-e011-4e1c-b29a-a1f7b731af66",
   "metadata": {},
   "outputs": [
    {
     "data": {
      "text/plain": [
       "array([  1,   2,   3, 100, 500])"
      ]
     },
     "execution_count": 16,
     "metadata": {},
     "output_type": "execute_result"
    }
   ],
   "source": [
    "arr"
   ]
  },
  {
   "cell_type": "code",
   "execution_count": 17,
   "id": "684e6346-4439-48af-9699-b5f5f0114975",
   "metadata": {},
   "outputs": [
    {
     "data": {
      "text/plain": [
       "array([  1,   2,   3, 100, 500])"
      ]
     },
     "execution_count": 17,
     "metadata": {},
     "output_type": "execute_result"
    }
   ],
   "source": [
    "arr4 = arr.copy()\n",
    "arr4"
   ]
  },
  {
   "cell_type": "code",
   "execution_count": 18,
   "id": "2e8fa2eb-e26b-4486-805e-f9feb8343416",
   "metadata": {},
   "outputs": [
    {
     "data": {
      "text/plain": [
       "array([  1,   2, 200, 100, 500])"
      ]
     },
     "execution_count": 18,
     "metadata": {},
     "output_type": "execute_result"
    }
   ],
   "source": [
    "arr4[2:3] = 200\n",
    "arr4"
   ]
  },
  {
   "cell_type": "code",
   "execution_count": 19,
   "id": "eee855ae-3f40-4095-89f1-5a7854860090",
   "metadata": {},
   "outputs": [
    {
     "data": {
      "text/plain": [
       "np.int64(500)"
      ]
     },
     "execution_count": 19,
     "metadata": {},
     "output_type": "execute_result"
    }
   ],
   "source": [
    "arr4[4]"
   ]
  },
  {
   "cell_type": "code",
   "execution_count": 20,
   "id": "b2fecf5b-3cd1-48ca-aa1f-a5ac0df83952",
   "metadata": {},
   "outputs": [],
   "source": [
    "#playing with dataframes\n",
    "import numpy as np\n",
    "import pandas as pd"
   ]
  },
  {
   "cell_type": "code",
   "execution_count": 23,
   "id": "c7378db3-a4b7-466d-ac20-fbbc311e0579",
   "metadata": {},
   "outputs": [
    {
     "data": {
      "text/html": [
       "<div>\n",
       "<style scoped>\n",
       "    .dataframe tbody tr th:only-of-type {\n",
       "        vertical-align: middle;\n",
       "    }\n",
       "\n",
       "    .dataframe tbody tr th {\n",
       "        vertical-align: top;\n",
       "    }\n",
       "\n",
       "    .dataframe thead th {\n",
       "        text-align: right;\n",
       "    }\n",
       "</style>\n",
       "<table border=\"1\" class=\"dataframe\">\n",
       "  <thead>\n",
       "    <tr style=\"text-align: right;\">\n",
       "      <th></th>\n",
       "      <th>c1</th>\n",
       "      <th>c2</th>\n",
       "      <th>c3</th>\n",
       "      <th>c4</th>\n",
       "      <th>c5</th>\n",
       "    </tr>\n",
       "  </thead>\n",
       "  <tbody>\n",
       "    <tr>\n",
       "      <th>r1</th>\n",
       "      <td>0</td>\n",
       "      <td>1</td>\n",
       "      <td>2</td>\n",
       "      <td>3</td>\n",
       "      <td>4</td>\n",
       "    </tr>\n",
       "    <tr>\n",
       "      <th>r2</th>\n",
       "      <td>5</td>\n",
       "      <td>6</td>\n",
       "      <td>7</td>\n",
       "      <td>8</td>\n",
       "      <td>9</td>\n",
       "    </tr>\n",
       "    <tr>\n",
       "      <th>r3</th>\n",
       "      <td>10</td>\n",
       "      <td>11</td>\n",
       "      <td>12</td>\n",
       "      <td>13</td>\n",
       "      <td>14</td>\n",
       "    </tr>\n",
       "    <tr>\n",
       "      <th>r4</th>\n",
       "      <td>15</td>\n",
       "      <td>16</td>\n",
       "      <td>17</td>\n",
       "      <td>18</td>\n",
       "      <td>19</td>\n",
       "    </tr>\n",
       "  </tbody>\n",
       "</table>\n",
       "</div>"
      ],
      "text/plain": [
       "    c1  c2  c3  c4  c5\n",
       "r1   0   1   2   3   4\n",
       "r2   5   6   7   8   9\n",
       "r3  10  11  12  13  14\n",
       "r4  15  16  17  18  19"
      ]
     },
     "execution_count": 23,
     "metadata": {},
     "output_type": "execute_result"
    }
   ],
   "source": [
    "df = pd.DataFrame(np.arange(0,20).reshape(4,5), columns = [\"c1\", \"c2\", \"c3\", \"c4\", \"c5\"], index = ['r1', 'r2', 'r3', 'r4'])\n",
    "df"
   ]
  },
  {
   "cell_type": "code",
   "execution_count": 24,
   "id": "0e2963aa-0148-4f9f-8068-0eaf659efdf0",
   "metadata": {},
   "outputs": [
    {
     "data": {
      "text/html": [
       "<div>\n",
       "<style scoped>\n",
       "    .dataframe tbody tr th:only-of-type {\n",
       "        vertical-align: middle;\n",
       "    }\n",
       "\n",
       "    .dataframe tbody tr th {\n",
       "        vertical-align: top;\n",
       "    }\n",
       "\n",
       "    .dataframe thead th {\n",
       "        text-align: right;\n",
       "    }\n",
       "</style>\n",
       "<table border=\"1\" class=\"dataframe\">\n",
       "  <thead>\n",
       "    <tr style=\"text-align: right;\">\n",
       "      <th></th>\n",
       "      <th>c2</th>\n",
       "      <th>c3</th>\n",
       "      <th>c4</th>\n",
       "      <th>c5</th>\n",
       "    </tr>\n",
       "  </thead>\n",
       "  <tbody>\n",
       "    <tr>\n",
       "      <th>r1</th>\n",
       "      <td>1</td>\n",
       "      <td>2</td>\n",
       "      <td>3</td>\n",
       "      <td>4</td>\n",
       "    </tr>\n",
       "    <tr>\n",
       "      <th>r2</th>\n",
       "      <td>6</td>\n",
       "      <td>7</td>\n",
       "      <td>8</td>\n",
       "      <td>9</td>\n",
       "    </tr>\n",
       "    <tr>\n",
       "      <th>r3</th>\n",
       "      <td>11</td>\n",
       "      <td>12</td>\n",
       "      <td>13</td>\n",
       "      <td>14</td>\n",
       "    </tr>\n",
       "    <tr>\n",
       "      <th>r4</th>\n",
       "      <td>16</td>\n",
       "      <td>17</td>\n",
       "      <td>18</td>\n",
       "      <td>19</td>\n",
       "    </tr>\n",
       "  </tbody>\n",
       "</table>\n",
       "</div>"
      ],
      "text/plain": [
       "    c2  c3  c4  c5\n",
       "r1   1   2   3   4\n",
       "r2   6   7   8   9\n",
       "r3  11  12  13  14\n",
       "r4  16  17  18  19"
      ]
     },
     "execution_count": 24,
     "metadata": {},
     "output_type": "execute_result"
    }
   ],
   "source": [
    "df.iloc[:,1:]"
   ]
  },
  {
   "cell_type": "code",
   "execution_count": 27,
   "id": "60a97da1-58f3-470d-8c1b-7a6d1a035937",
   "metadata": {},
   "outputs": [
    {
     "data": {
      "text/plain": [
       "array([[ 2,  3,  4],\n",
       "       [ 7,  8,  9],\n",
       "       [12, 13, 14],\n",
       "       [17, 18, 19]])"
      ]
     },
     "execution_count": 27,
     "metadata": {},
     "output_type": "execute_result"
    }
   ],
   "source": [
    "#converting dataframes to array\n",
    "df.iloc[:,2:].values #.reshape(3,4)"
   ]
  },
  {
   "cell_type": "code",
   "execution_count": 28,
   "id": "d6231fc5-4cd4-4d61-9916-f562593a0a79",
   "metadata": {},
   "outputs": [
    {
     "data": {
      "text/plain": [
       "c1    0\n",
       "c2    0\n",
       "c3    0\n",
       "c4    0\n",
       "c5    0\n",
       "dtype: int64"
      ]
     },
     "execution_count": 28,
     "metadata": {},
     "output_type": "execute_result"
    }
   ],
   "source": [
    "df.isnull().sum() #important to check null values"
   ]
  },
  {
   "cell_type": "code",
   "execution_count": 30,
   "id": "021afdbe-908e-412d-8e1a-ce0e45c006f8",
   "metadata": {},
   "outputs": [
    {
     "data": {
      "text/plain": [
       "c1\n",
       "0     1\n",
       "5     1\n",
       "10    1\n",
       "15    1\n",
       "Name: count, dtype: int64"
      ]
     },
     "execution_count": 30,
     "metadata": {},
     "output_type": "execute_result"
    }
   ],
   "source": [
    "df['c1'].value_counts()"
   ]
  },
  {
   "cell_type": "code",
   "execution_count": 35,
   "id": "b615b0c1-65b8-4cc8-89d3-8087638ed054",
   "metadata": {},
   "outputs": [
    {
     "data": {
      "text/plain": [
       "array([ 3,  8, 13, 18])"
      ]
     },
     "execution_count": 35,
     "metadata": {},
     "output_type": "execute_result"
    }
   ],
   "source": [
    "df['c4'].unique()"
   ]
  },
  {
   "cell_type": "code",
   "execution_count": 37,
   "id": "f8273761-ccb4-4a7b-9341-f7579d8428cb",
   "metadata": {},
   "outputs": [
    {
     "data": {
      "text/html": [
       "<div>\n",
       "<style scoped>\n",
       "    .dataframe tbody tr th:only-of-type {\n",
       "        vertical-align: middle;\n",
       "    }\n",
       "\n",
       "    .dataframe tbody tr th {\n",
       "        vertical-align: top;\n",
       "    }\n",
       "\n",
       "    .dataframe thead th {\n",
       "        text-align: right;\n",
       "    }\n",
       "</style>\n",
       "<table border=\"1\" class=\"dataframe\">\n",
       "  <thead>\n",
       "    <tr style=\"text-align: right;\">\n",
       "      <th></th>\n",
       "      <th>c2</th>\n",
       "      <th>c3</th>\n",
       "    </tr>\n",
       "  </thead>\n",
       "  <tbody>\n",
       "    <tr>\n",
       "      <th>r1</th>\n",
       "      <td>1</td>\n",
       "      <td>2</td>\n",
       "    </tr>\n",
       "    <tr>\n",
       "      <th>r2</th>\n",
       "      <td>6</td>\n",
       "      <td>7</td>\n",
       "    </tr>\n",
       "    <tr>\n",
       "      <th>r3</th>\n",
       "      <td>11</td>\n",
       "      <td>12</td>\n",
       "    </tr>\n",
       "    <tr>\n",
       "      <th>r4</th>\n",
       "      <td>16</td>\n",
       "      <td>17</td>\n",
       "    </tr>\n",
       "  </tbody>\n",
       "</table>\n",
       "</div>"
      ],
      "text/plain": [
       "    c2  c3\n",
       "r1   1   2\n",
       "r2   6   7\n",
       "r3  11  12\n",
       "r4  16  17"
      ]
     },
     "execution_count": 37,
     "metadata": {},
     "output_type": "execute_result"
    }
   ],
   "source": [
    "df[['c2','c3']]"
   ]
  },
  {
   "cell_type": "markdown",
   "id": "dae7f6c9-bb1f-4ca1-bba8-ad95a0d7983b",
   "metadata": {},
   "source": [
    "### Functions"
   ]
  },
  {
   "cell_type": "code",
   "execution_count": 50,
   "id": "08941d39-5cbb-405e-b4df-c0ff0e7eabeb",
   "metadata": {},
   "outputs": [],
   "source": [
    "def odd_eve(num):\n",
    "    if num%2 == 0:\n",
    "        return f'{num} is even number.'\n",
    "    else:\n",
    "        return f'{num} is odd number.'"
   ]
  },
  {
   "cell_type": "code",
   "execution_count": 51,
   "id": "ace25ef1-6616-4f3a-96a7-18c8ec118149",
   "metadata": {},
   "outputs": [
    {
     "data": {
      "text/plain": [
       "'235 is odd number.'"
      ]
     },
     "execution_count": 51,
     "metadata": {},
     "output_type": "execute_result"
    }
   ],
   "source": [
    "odd_eve(235)"
   ]
  },
  {
   "cell_type": "code",
   "execution_count": 75,
   "id": "a6766ae1-80b0-4b43-b097-03b305aa7679",
   "metadata": {},
   "outputs": [],
   "source": [
    "lst = [1,2,3,4,5,6,7]"
   ]
  },
  {
   "cell_type": "code",
   "execution_count": 53,
   "id": "972b5722-7f53-494d-97cc-f576f34a9089",
   "metadata": {},
   "outputs": [
    {
     "ename": "TypeError",
     "evalue": "unsupported operand type(s) for %: 'list' and 'int'",
     "output_type": "error",
     "traceback": [
      "\u001b[1;31m---------------------------------------------------------------------------\u001b[0m",
      "\u001b[1;31mTypeError\u001b[0m                                 Traceback (most recent call last)",
      "Cell \u001b[1;32mIn[53], line 1\u001b[0m\n\u001b[1;32m----> 1\u001b[0m odd_eve(lst)\n",
      "Cell \u001b[1;32mIn[50], line 2\u001b[0m, in \u001b[0;36modd_eve\u001b[1;34m(num)\u001b[0m\n\u001b[0;32m      1\u001b[0m \u001b[38;5;28;01mdef\u001b[39;00m\u001b[38;5;250m \u001b[39m\u001b[38;5;21modd_eve\u001b[39m(num):\n\u001b[1;32m----> 2\u001b[0m     \u001b[38;5;28;01mif\u001b[39;00m num\u001b[38;5;241m%\u001b[39m\u001b[38;5;241m2\u001b[39m \u001b[38;5;241m==\u001b[39m \u001b[38;5;241m0\u001b[39m:\n\u001b[0;32m      3\u001b[0m         \u001b[38;5;28;01mreturn\u001b[39;00m \u001b[38;5;124mf\u001b[39m\u001b[38;5;124m'\u001b[39m\u001b[38;5;132;01m{\u001b[39;00mnum\u001b[38;5;132;01m}\u001b[39;00m\u001b[38;5;124m is even number.\u001b[39m\u001b[38;5;124m'\u001b[39m\n\u001b[0;32m      4\u001b[0m     \u001b[38;5;28;01melse\u001b[39;00m:\n",
      "\u001b[1;31mTypeError\u001b[0m: unsupported operand type(s) for %: 'list' and 'int'"
     ]
    }
   ],
   "source": [
    "odd_eve(lst)"
   ]
  },
  {
   "cell_type": "code",
   "execution_count": 56,
   "id": "9a4e89b5-6b68-4168-813d-cab4dcf4f0c5",
   "metadata": {},
   "outputs": [
    {
     "name": "stdout",
     "output_type": "stream",
     "text": [
      "1 is odd number.\n",
      "2 is even number.\n",
      "3 is odd number.\n",
      "4 is even number.\n",
      "5 is odd number.\n",
      "6 is even number.\n",
      "7 is odd number.\n"
     ]
    }
   ],
   "source": [
    "for item in lst:\n",
    "    ans = odd_eve(item)\n",
    "    print(ans)"
   ]
  },
  {
   "cell_type": "code",
   "execution_count": 57,
   "id": "e383d550-be99-4183-9ebe-0d7c77bdde4b",
   "metadata": {},
   "outputs": [],
   "source": [
    "#positional and keyword arguments\n",
    "\n",
    "def hello(name, age=18):\n",
    "    print(f'{name} is my name and {age} is my age')"
   ]
  },
  {
   "cell_type": "code",
   "execution_count": 58,
   "id": "8ed9fc43-9c34-400b-81ea-131cce8a9d40",
   "metadata": {},
   "outputs": [
    {
     "name": "stdout",
     "output_type": "stream",
     "text": [
      "ham is my name and 18 is my age\n"
     ]
    }
   ],
   "source": [
    "hello('ham')"
   ]
  },
  {
   "cell_type": "code",
   "execution_count": 59,
   "id": "00ff956c-c95e-4a33-873e-e857fb6d7b45",
   "metadata": {},
   "outputs": [],
   "source": [
    "def hello(*args, **kwargs):\n",
    "    print(f'{args} is my name and {kwargs} is my age')"
   ]
  },
  {
   "cell_type": "code",
   "execution_count": 61,
   "id": "f096514f-cce5-49fb-aa75-ad3679794a0e",
   "metadata": {},
   "outputs": [
    {
     "name": "stdout",
     "output_type": "stream",
     "text": [
      "('ham', 'suji') is my name and {'age': 22, 'next': 23} is my age\n"
     ]
    }
   ],
   "source": [
    "hello('ham', 'suji', age=22, next=23)"
   ]
  },
  {
   "cell_type": "code",
   "execution_count": 62,
   "id": "604aeab2-63fd-4924-89a7-2b6b8a36f595",
   "metadata": {},
   "outputs": [],
   "source": [
    "lst=['ham','suji']\n",
    "dict={'age':22, 'next': 23}"
   ]
  },
  {
   "cell_type": "code",
   "execution_count": 63,
   "id": "991d848c-2b78-4374-903e-a661f60fc66f",
   "metadata": {},
   "outputs": [
    {
     "name": "stdout",
     "output_type": "stream",
     "text": [
      "(['ham', 'suji'], {'age': 22, 'next': 23}) is my name and {} is my age\n"
     ]
    }
   ],
   "source": [
    "hello(lst,dict)"
   ]
  },
  {
   "cell_type": "code",
   "execution_count": 64,
   "id": "954e6d9a-593b-4b0f-b065-1a542a0ba725",
   "metadata": {},
   "outputs": [
    {
     "name": "stdout",
     "output_type": "stream",
     "text": [
      "('ham', 'suji') is my name and {'age': 22, 'next': 23} is my age\n"
     ]
    }
   ],
   "source": [
    "hello(*lst,**dict)"
   ]
  },
  {
   "cell_type": "markdown",
   "id": "520f08f9-a5ee-4891-a2a1-d16de133e1ce",
   "metadata": {},
   "source": [
    "### Lambda functions"
   ]
  },
  {
   "cell_type": "code",
   "execution_count": 65,
   "id": "58e90449-72e7-4e1d-b2ae-4ee27c5e5b55",
   "metadata": {},
   "outputs": [],
   "source": [
    "def addition(a,b):\n",
    "    return a+b"
   ]
  },
  {
   "cell_type": "code",
   "execution_count": 67,
   "id": "5bddad60-ff88-4365-aa91-e81ae8ed1d4c",
   "metadata": {},
   "outputs": [
    {
     "data": {
      "text/plain": [
       "2888"
      ]
     },
     "execution_count": 67,
     "metadata": {},
     "output_type": "execute_result"
    }
   ],
   "source": [
    "addition(453,2435)"
   ]
  },
  {
   "cell_type": "code",
   "execution_count": 70,
   "id": "57fb5e43-a82b-4e82-bd23-4205610f2dee",
   "metadata": {},
   "outputs": [
    {
     "data": {
      "text/plain": [
       "55"
      ]
     },
     "execution_count": 70,
     "metadata": {},
     "output_type": "execute_result"
    }
   ],
   "source": [
    "lamb = lambda x,y : x+y\n",
    "lamb(23,32)"
   ]
  },
  {
   "cell_type": "code",
   "execution_count": 72,
   "id": "08a287f9-f5e1-4ed3-a2ea-ea9e4a37c129",
   "metadata": {},
   "outputs": [
    {
     "data": {
      "text/plain": [
       "True"
      ]
     },
     "execution_count": 72,
     "metadata": {},
     "output_type": "execute_result"
    }
   ],
   "source": [
    "eve_odd = lambda a : a%2==0\n",
    "eve_odd(52352)"
   ]
  },
  {
   "cell_type": "markdown",
   "id": "cc7c8dde-a6aa-46a0-9c6d-e00ea909a903",
   "metadata": {},
   "source": [
    "### Map function"
   ]
  },
  {
   "cell_type": "code",
   "execution_count": 77,
   "id": "f7da8ae6-a43c-4a32-8f33-59b618cbd1a3",
   "metadata": {},
   "outputs": [
    {
     "data": {
      "text/plain": [
       "<map at 0x1ef47883970>"
      ]
     },
     "execution_count": 77,
     "metadata": {},
     "output_type": "execute_result"
    }
   ],
   "source": [
    "#above in an example for loop is used instead of using for we can use map function as it is faster than a loop. If a number of values are to be passed to perform a function.\n",
    "lst = [543,345,23,65,24,654,24,6,63,5,5462,36,67,4,6,8,5,6,35,6456,907]\n",
    "map(odd_eve,lst)"
   ]
  },
  {
   "cell_type": "code",
   "execution_count": 81,
   "id": "37d9a524-5c2b-4d66-a777-09d84368984f",
   "metadata": {},
   "outputs": [
    {
     "data": {
      "text/plain": [
       "['543 is odd number.',\n",
       " '345 is odd number.',\n",
       " '23 is odd number.',\n",
       " '65 is odd number.',\n",
       " '24 is even number.',\n",
       " '654 is even number.',\n",
       " '24 is even number.',\n",
       " '6 is even number.',\n",
       " '63 is odd number.',\n",
       " '5 is odd number.',\n",
       " '5462 is even number.',\n",
       " '36 is even number.',\n",
       " '67 is odd number.',\n",
       " '4 is even number.',\n",
       " '6 is even number.',\n",
       " '8 is even number.',\n",
       " '5 is odd number.',\n",
       " '6 is even number.',\n",
       " '35 is odd number.',\n",
       " '6456 is even number.',\n",
       " '907 is odd number.']"
      ]
     },
     "execution_count": 81,
     "metadata": {},
     "output_type": "execute_result"
    }
   ],
   "source": [
    "list(map(odd_eve, lst))"
   ]
  },
  {
   "cell_type": "markdown",
   "id": "4afe7c6e-2b8b-4e76-8c5a-aef88a20266d",
   "metadata": {},
   "source": [
    "### Filter function\n",
    "\n",
    "It only returns the value that satisfies a condition unlike map where the output of the values through the condition is returned"
   ]
  },
  {
   "cell_type": "code",
   "execution_count": 82,
   "id": "d2e0017a-a54b-4114-a5ed-0e50d61669fe",
   "metadata": {},
   "outputs": [
    {
     "data": {
      "text/plain": [
       "[24, 654, 24, 6, 5462, 36, 4, 6, 8, 6, 6456]"
      ]
     },
     "execution_count": 82,
     "metadata": {},
     "output_type": "execute_result"
    }
   ],
   "source": [
    "list(filter(lambda num: num%2==0, lst))"
   ]
  },
  {
   "cell_type": "code",
   "execution_count": 83,
   "id": "c02e450a-5aff-4867-8f49-d663b0f04090",
   "metadata": {},
   "outputs": [
    {
     "data": {
      "text/plain": [
       "[False,\n",
       " False,\n",
       " False,\n",
       " False,\n",
       " True,\n",
       " True,\n",
       " True,\n",
       " True,\n",
       " False,\n",
       " False,\n",
       " True,\n",
       " True,\n",
       " False,\n",
       " True,\n",
       " True,\n",
       " True,\n",
       " False,\n",
       " True,\n",
       " False,\n",
       " True,\n",
       " False]"
      ]
     },
     "execution_count": 83,
     "metadata": {},
     "output_type": "execute_result"
    }
   ],
   "source": [
    "list(map(lambda num: num%2==0, lst))"
   ]
  },
  {
   "cell_type": "code",
   "execution_count": null,
   "id": "fd32b637-0d7d-4955-8018-0350a72f4add",
   "metadata": {},
   "outputs": [],
   "source": []
  }
 ],
 "metadata": {
  "kernelspec": {
   "display_name": "Python 3 (ipykernel)",
   "language": "python",
   "name": "python3"
  },
  "language_info": {
   "codemirror_mode": {
    "name": "ipython",
    "version": 3
   },
   "file_extension": ".py",
   "mimetype": "text/x-python",
   "name": "python",
   "nbconvert_exporter": "python",
   "pygments_lexer": "ipython3",
   "version": "3.13.5"
  }
 },
 "nbformat": 4,
 "nbformat_minor": 5
}
